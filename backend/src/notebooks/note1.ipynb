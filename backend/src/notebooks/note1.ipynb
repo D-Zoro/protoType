{
 "cells": [
  {
   "cell_type": "code",
   "execution_count": 1,
   "id": "72f0284a-f737-4b92-a48e-7a92a1ca6bfc",
   "metadata": {},
   "outputs": [
    {
     "name": "stdout",
     "output_type": "stream",
     "text": [
      "hello world\n"
     ]
    }
   ],
   "source": [
    "print(\"hello world\")"
   ]
  },
  {
   "cell_type": "code",
   "execution_count": 12,
   "id": "7ba2dc7f-d7b9-4966-8392-f400d445ac3e",
   "metadata": {},
   "outputs": [
    {
     "name": "stdout",
     "output_type": "stream",
     "text": [
      "command.sh  data  requirements.txt  service_accounts  src\n"
     ]
    }
   ],
   "source": [
    "!ls ../..\n",
    "    \n",
    "\n"
   ]
  },
  {
   "cell_type": "code",
   "execution_count": 13,
   "id": "ca23cc10-d524-47cd-9910-62a8330ba452",
   "metadata": {},
   "outputs": [],
   "source": [
    "import sys\n",
    "import os\n",
    "sys.path.append(os.path.abspath(\"../..\"))"
   ]
  },
  {
   "cell_type": "code",
   "execution_count": 14,
   "id": "e644a789-cf9c-4d8d-9a30-0da74d73bb22",
   "metadata": {},
   "outputs": [],
   "source": [
    "from src.ml_models.model_proto import AirPollutionPredictor\n",
    "from datetime import datetime,timedelta\n",
    "import random"
   ]
  },
  {
   "cell_type": "code",
   "execution_count": 15,
   "id": "7ffab0a9-0d75-42c9-aaf5-863356c5cb4c",
   "metadata": {},
   "outputs": [],
   "source": [
    "def create_dummy_data(n_samples: int = 100):\n",
    "    dummy_data = []\n",
    "    for _ in range(n_samples):\n",
    "        temp = random.uniform(10,40)\n",
    "        humidity = random.uniform(30,90)\n",
    "        base_pollution = 50+ (temp - 25)* 2 +(humidity - 50)*50\n",
    "        dummy_data.append({\n",
    "            'current_weather':{\n",
    "                'temperature':temp,\n",
    "                'humidity':humidity,\n",
    "                'pressure':random.uniform(980,1020),\n",
    "                'wind_speed':random.uniform(0,15),\n",
    "                'wind_direction':random.uniform(0,360),\n",
    "                'visibility':random.uniform(1000,10000),\n",
    "                'weather_condition':random.choice(['Clear','Clouds','Rain','Mist'])\n",
    "            },\n",
    "            'current_pollution':{\n",
    "                'pm2_5':max(0,base_pollution + random.uniform(-20,20)),\n",
    "                'pm10': max(0,base_pollution + 1.5 + random.uniform(-30,30)),\n",
    "                'no2': max(0,base_pollution + 0.6 + random.uniform(-10,10)),\n",
    "                'o3': max(0,base_pollution + 0.8+ random.uniform(-15,15)),\n",
    "                'aqi':max(1,int(base_pollution + random.uniform(-20,20)))\n",
    "            },\n",
    "            'location':{\n",
    "                'lat':28.6139 + random.uniform(-0.1,0.1),\n",
    "                'lon':77.2090 + random.uniform(-0.1,0.1)\n",
    "            },\n",
    "            'collected_at':datetime.now() - timedelta(days=random.randint(0,30)),\n",
    "            'historical_pollution':[]\n",
    "        })\n",
    "    return dummy_data"
   ]
  },
  {
   "cell_type": "code",
   "execution_count": 17,
   "id": "79ae1074-b6aa-4734-bca7-134a0011f723",
   "metadata": {},
   "outputs": [
    {
     "name": "stdout",
     "output_type": "stream",
     "text": [
      "Preparing features...\n",
      "Training on 150 samples with 20 features\n",
      "Training model for pm2_5...\n",
      "  random_forest R² score: 0.9940\n",
      "  gradient_boosting R² score: 0.9965\n",
      "  Final R² score: 0.9965\n",
      "  MSE: 1386.3320\n",
      "  MAE: 25.1873\n",
      "Training model for pm10...\n",
      "  random_forest R² score: 0.9956\n",
      "  gradient_boosting R² score: 0.9975\n",
      "  Final R² score: 0.9975\n",
      "  MSE: 939.6942\n",
      "  MAE: 22.9970\n",
      "Training model for no2...\n",
      "  random_forest R² score: 0.9937\n",
      "  gradient_boosting R² score: 0.9968\n",
      "  Final R² score: 0.9968\n",
      "  MSE: 1262.1803\n",
      "  MAE: 24.7585\n",
      "Training model for o3...\n",
      "  random_forest R² score: 0.9945\n",
      "  gradient_boosting R² score: 0.9973\n",
      "  Final R² score: 0.9973\n",
      "  MSE: 1008.1866\n",
      "  MAE: 23.0954\n",
      "Training model for aqi...\n",
      "  random_forest R² score: 0.9967\n",
      "  gradient_boosting R² score: 0.9980\n",
      "  Final R² score: 0.9980\n",
      "  MSE: 588.5411\n",
      "  MAE: 18.5868\n",
      "Saved pm2_5 model and scaler\n",
      "Saved pm10 model and scaler\n",
      "Saved no2 model and scaler\n",
      "Saved o3 model and scaler\n",
      "Saved aqi model and scaler\n"
     ]
    }
   ],
   "source": [
    "predictor = AirPollutionPredictor()\n",
    "dummy_data = create_dummy_data(150)\n",
    "\n",
    "training_results = predictor.train_models(dummy_data)\n"
   ]
  },
  {
   "cell_type": "code",
   "execution_count": 18,
   "id": "109fa72b-eae7-4047-8912-636d9ddf1d23",
   "metadata": {},
   "outputs": [
    {
     "data": {
      "text/plain": [
       "{'pm2_5': {'r2_score': 0.9965329093890228,\n",
       "  'mse': 1386.3320145007858,\n",
       "  'mae': 25.187302975753443,\n",
       "  'samples_used': 103},\n",
       " 'pm10': {'r2_score': 0.9974826595825392,\n",
       "  'mse': 939.6942403492593,\n",
       "  'mae': 22.996951861392514,\n",
       "  'samples_used': 104},\n",
       " 'no2': {'r2_score': 0.9968408543206121,\n",
       "  'mse': 1262.1802510519174,\n",
       "  'mae': 24.758510564036367,\n",
       "  'samples_used': 103},\n",
       " 'o3': {'r2_score': 0.9973274649352099,\n",
       "  'mse': 1008.1865541136091,\n",
       "  'mae': 23.09543706679809,\n",
       "  'samples_used': 104},\n",
       " 'aqi': {'r2_score': 0.9980031984193475,\n",
       "  'mse': 588.5410718365207,\n",
       "  'mae': 18.586816801002843,\n",
       "  'samples_used': 150}}"
      ]
     },
     "execution_count": 18,
     "metadata": {},
     "output_type": "execute_result"
    }
   ],
   "source": [
    "training_results"
   ]
  },
  {
   "cell_type": "code",
   "execution_count": null,
   "id": "6f5c31f5-de6f-4ab7-b195-0b4e6475546f",
   "metadata": {},
   "outputs": [],
   "source": []
  }
 ],
 "metadata": {
  "kernelspec": {
   "display_name": "Python 3 (ipykernel)",
   "language": "python",
   "name": "python3"
  },
  "language_info": {
   "codemirror_mode": {
    "name": "ipython",
    "version": 3
   },
   "file_extension": ".py",
   "mimetype": "text/x-python",
   "name": "python",
   "nbconvert_exporter": "python",
   "pygments_lexer": "ipython3",
   "version": "3.11.13"
  }
 },
 "nbformat": 4,
 "nbformat_minor": 5
}

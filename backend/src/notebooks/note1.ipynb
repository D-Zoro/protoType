{
 "cells": [
  {
   "cell_type": "code",
   "execution_count": 1,
   "id": "72f0284a-f737-4b92-a48e-7a92a1ca6bfc",
   "metadata": {},
   "outputs": [
    {
     "name": "stdout",
     "output_type": "stream",
     "text": [
      "hello world\n"
     ]
    }
   ],
   "source": [
    "print(\"hello world\")"
   ]
  },
  {
   "cell_type": "code",
   "execution_count": 3,
   "id": "7ba2dc7f-d7b9-4966-8392-f400d445ac3e",
   "metadata": {},
   "outputs": [
    {
     "name": "stdout",
     "output_type": "stream",
     "text": [
      "note1.ipynb\n"
     ]
    }
   ],
   "source": [
    "!ls\n"
   ]
  },
  {
   "cell_type": "code",
   "execution_count": 8,
   "id": "ca23cc10-d524-47cd-9910-62a8330ba452",
   "metadata": {},
   "outputs": [],
   "source": [
    "import sys\n",
    "import os\n",
    "sys.path.append(os.path.abspath(\"../.\"))"
   ]
  },
  {
   "cell_type": "code",
   "execution_count": 12,
   "id": "e644a789-cf9c-4d8d-9a30-0da74d73bb22",
   "metadata": {},
   "outputs": [],
   "source": [
    "from src.ml_models.model_proto import AirPollutionPredictor\n",
    "from datetime import datetime,timedelta\n",
    "import random"
   ]
  },
  {
   "cell_type": "code",
   "execution_count": 27,
   "id": "7ffab0a9-0d75-42c9-aaf5-863356c5cb4c",
   "metadata": {},
   "outputs": [],
   "source": [
    "def create_dummy_data(n_samples: int = 100):\n",
    "    dummy_data = []\n",
    "    for _ in range(n_samples):\n",
    "        temp = random.uniform(10,40)\n",
    "        humidity = random.uniform(30,90)\n",
    "        base_pollution = 50+ (temp - 25)* 2 +(humidity - 50)*50\n",
    "        dummy_data.append({\n",
    "            'current_weather':{\n",
    "                'temperature':temp,\n",
    "                'humidity':humidity,\n",
    "                'pressure':random.uniform(980,1020),\n",
    "                'wind_speed':random.uniform(0,15),\n",
    "                'wind_direction':random.uniform(0,360),\n",
    "                'visibility':random.uniform(1000,10000),\n",
    "                'weather_condition':random.choice(['Clear','Clouds','Rain','Mist'])\n",
    "            },\n",
    "            'current_pollution':{\n",
    "                'pm2_5':max(0,base_pollution + random.uniform(-20,20)),\n",
    "                'pm10': max(0,base_pollution + 1.5 + random.uniform(-30,30)),\n",
    "                'no2': max(0,base_pollution + 0.6 + random.uniform(-10,10)),\n",
    "                'o3': max(0,base_pollution + 0.8+ random.uniform(-15,15)),\n",
    "                'aqi':max(1,int(base_pollution + random.uniform(-20,20)))\n",
    "            },\n",
    "            'location':{\n",
    "                'lat':28.6139 + random.uniform(-0.1,0.1),\n",
    "                'lon':77.2090 + random.uniform(-0.1,0.1)\n",
    "            },\n",
    "            'collected_at':datetime.now() - timedelta(days=random.randint(0,30)),\n",
    "            'historical_pollution':[]\n",
    "        })\n",
    "    return dummy_data"
   ]
  },
  {
   "cell_type": "code",
   "execution_count": 28,
   "id": "79ae1074-b6aa-4734-bca7-134a0011f723",
   "metadata": {},
   "outputs": [
    {
     "name": "stdout",
     "output_type": "stream",
     "text": [
      "Preparing features...\n",
      "Training on 150 samples with 20 features\n",
      "Training model for pm2_5...\n",
      "  random_forest R² score: 0.9972\n",
      "  gradient_boosting R² score: 0.9976\n",
      "  Final R² score: 0.9976\n",
      "  MSE: 688.1684\n",
      "  MAE: 20.7268\n",
      "Training model for pm10...\n",
      "  random_forest R² score: 0.9968\n",
      "  gradient_boosting R² score: 0.9980\n",
      "  Final R² score: 0.9980\n",
      "  MSE: 763.3141\n",
      "  MAE: 21.4598\n",
      "Training model for no2...\n",
      "  random_forest R² score: 0.9985\n",
      "  gradient_boosting R² score: 0.9993\n",
      "  Final R² score: 0.9993\n",
      "  MSE: 275.4897\n",
      "  MAE: 13.3238\n",
      "Training model for o3...\n",
      "  random_forest R² score: 0.9985\n",
      "  gradient_boosting R² score: 0.9985\n",
      "  Final R² score: 0.9985\n",
      "  MSE: 457.2687\n",
      "  MAE: 17.5775\n",
      "Training model for aqi...\n",
      "  random_forest R² score: 0.9988\n",
      "  gradient_boosting R² score: 0.9989\n",
      "  Final R² score: 0.9989\n",
      "  MSE: 566.3738\n",
      "  MAE: 13.2085\n",
      "Saved pm2_5 model and scaler\n",
      "Saved pm10 model and scaler\n",
      "Saved no2 model and scaler\n",
      "Saved o3 model and scaler\n",
      "Saved aqi model and scaler\n"
     ]
    }
   ],
   "source": [
    "predictor = AirPollutionPredictor()\n",
    "dummy_data = create_dummy_data(150)\n",
    "\n",
    "training_results = predictor.train_models(dummy_data)\n"
   ]
  },
  {
   "cell_type": "code",
   "execution_count": 29,
   "id": "109fa72b-eae7-4047-8912-636d9ddf1d23",
   "metadata": {},
   "outputs": [
    {
     "data": {
      "text/plain": [
       "{'pm2_5': {'r2_score': 0.9975828802763204,\n",
       "  'mse': 688.1683570980508,\n",
       "  'mae': 20.726813743211167,\n",
       "  'samples_used': 93},\n",
       " 'pm10': {'r2_score': 0.9979512877259408,\n",
       "  'mse': 763.3141167772206,\n",
       "  'mae': 21.459849573170008,\n",
       "  'samples_used': 93},\n",
       " 'no2': {'r2_score': 0.9992754038640949,\n",
       "  'mse': 275.4896954257153,\n",
       "  'mae': 13.323791105511782,\n",
       "  'samples_used': 95},\n",
       " 'o3': {'r2_score': 0.9985147990812325,\n",
       "  'mse': 457.26872149935787,\n",
       "  'mae': 17.57745416800451,\n",
       "  'samples_used': 93},\n",
       " 'aqi': {'r2_score': 0.998940227826387,\n",
       "  'mse': 566.3738119491658,\n",
       "  'mae': 13.208459946388725,\n",
       "  'samples_used': 150}}"
      ]
     },
     "execution_count": 29,
     "metadata": {},
     "output_type": "execute_result"
    }
   ],
   "source": [
    "training_results"
   ]
  },
  {
   "cell_type": "code",
   "execution_count": null,
   "id": "6f5c31f5-de6f-4ab7-b195-0b4e6475546f",
   "metadata": {},
   "outputs": [],
   "source": []
  }
 ],
 "metadata": {
  "kernelspec": {
   "display_name": "Python 3 (ipykernel)",
   "language": "python",
   "name": "python3"
  },
  "language_info": {
   "codemirror_mode": {
    "name": "ipython",
    "version": 3
   },
   "file_extension": ".py",
   "mimetype": "text/x-python",
   "name": "python",
   "nbconvert_exporter": "python",
   "pygments_lexer": "ipython3",
   "version": "3.11.13"
  }
 },
 "nbformat": 4,
 "nbformat_minor": 5
}
